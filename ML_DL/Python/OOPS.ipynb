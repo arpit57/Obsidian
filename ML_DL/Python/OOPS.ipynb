{
 "cells": [
  {
   "cell_type": "code",
   "execution_count": 13,
   "id": "c0ae1775",
   "metadata": {},
   "outputs": [
    {
     "name": "stdout",
     "output_type": "stream",
     "text": [
      "<class '__main__.Item'>\n",
      "<class 'str'>\n",
      "100000\n",
      "120000\n"
     ]
    }
   ],
   "source": [
    "'''\n",
    "->Methtod vs Function:\n",
    "A function defined inside a class is a method.\n",
    "\n",
    "->'self' parameter of a method:\n",
    "When instancing, the instance is automatically passed as a self parameter.\n",
    "in our exanple, these are Item_1 and Item_2.\n",
    "It's a convention to call this parameter as 'self', although a user can choose to define it as any other param\n",
    "\n",
    "->Atrribute\n",
    "An attribute in Python is a named value or object property, associated with an object.\n",
    "It is accessed using dot (.) notation, for example \"object.attribute\".\n",
    "\n",
    "->Arguments vs parameters:\n",
    "An argument is a value passed to a function when the function is called. \n",
    "A parameter is a variable in the function definition that receives the argument. \n",
    "Simply put, arguments are the values passed to a function, and parameters are the variables in the function that receive those values.\n",
    "'''\n",
    "\n",
    "class Item:\n",
    "    def totalPrice(self, x, y):\n",
    "        return x * y\n",
    "\n",
    "Item_1 = Item() #Creating instance of a class\n",
    "Item_1.name = \"Mobile phone\" #Assigning attribute to an instance of a class\n",
    "Item_1.price = 20000\n",
    "Item_1.quantity = 5\n",
    "print(type(Item_1))\n",
    "print(type(Item_1.name))\n",
    "\n",
    "Item_2 = Item()\n",
    "Item_2.name = \"Laptop\"\n",
    "Item_2.price = 60000\n",
    "Item_2.quantity = 2\n",
    "\n",
    "print(Item_1.totalPrice(Item_1.price, Item_1.quantity))\n",
    "print(Item_2.totalPrice(Item_2.price, Item_2.quantity))\n"
   ]
  },
  {
   "cell_type": "code",
   "execution_count": 56,
   "id": "3c0b3cc6",
   "metadata": {},
   "outputs": [
    {
     "name": "stdout",
     "output_type": "stream",
     "text": [
      "Constructor call on instance creation with name Phone\n",
      "Constructor call on instance creation with name laptop\n",
      "Constructor call on instance creation with name Smart watch\n",
      "40000\n",
      "60000\n",
      "30000\n",
      "laptop has numpad True\n",
      "\n",
      "{'__module__': '__main__', 'payRate': 0.9, 'all': [<__main__.Item object at 0x000002C5B8B433A0>, <__main__.Item object at 0x000002C5B8B434F0>, <__main__.Item object at 0x000002C5B8B43520>], '__init__': <function Item.__init__ at 0x000002C5B8506550>, 'totalPrice': <function Item.totalPrice at 0x000002C5B8506280>, 'applyDiscount': <function Item.applyDiscount at 0x000002C5B85060D0>, '__dict__': <attribute '__dict__' of 'Item' objects>, '__weakref__': <attribute '__weakref__' of 'Item' objects>, '__doc__': None}\n",
      "0.9\n",
      "{'name': 'Phone', 'price': 20000, 'quantity': 2}\n",
      "0.9 \n",
      "\n",
      "18000.0\n",
      "30000.0 \n",
      "\n",
      "Phone\n",
      "laptop\n",
      "Smart watch\n"
     ]
    }
   ],
   "source": [
    "\"\"\"\n",
    "->constructor:\n",
    "__init__ is one of the magic methods availbale in python\n",
    "whenever an instance is created, this method is called\n",
    "\n",
    "->Assertion:\n",
    "assertion is a statement that checks if the given condition is true, \n",
    "and raises an error (AssertionError) if the condition is false.\n",
    "\"\"\"\n",
    "class Item:\n",
    "    payRate = 0.9 # A class attribute\n",
    "    all = [] #a list to store created instances\n",
    "    def __init__(self, name: str, price: float, quantity=1): # setting default quantity as '1'\n",
    "        print(f\"Constructor call on instance creation with name {name}\")\n",
    "        \n",
    "        assert price >=0, f'Price must not be -ve'\n",
    "        assert quantity >=0, f'quantity must not be -ve'\n",
    "        \n",
    "        # defining 3 instance attribute\n",
    "        self.name = name \n",
    "        self.price = price\n",
    "        self.quantity = quantity\n",
    "        \n",
    "        Item.all.append(self)\n",
    "    def totalPrice(self):\n",
    "        return self.price * self.quantity\n",
    "    \n",
    "    def applyDiscount(self):\n",
    "        return self.price * self.payRate\n",
    "    \n",
    "item_1 = Item(\"Phone\", 20000, 2)\n",
    "item_2 = Item(\"laptop\", 60000) # not passing quantity, hence the default value '1' will be assigned\n",
    "item_3 = Item(\"Smart watch\", 10000, 3)\n",
    "\n",
    "item_2.hasNumpad = True #we can still declare an attribute outside the constructor\n",
    "\n",
    "print(Item.totalPrice(item_1))\n",
    "print(item_2.totalPrice()) # Another way of calling a class method\n",
    "print(item_3.totalPrice())\n",
    "print(f\"laptop has numpad {item_2.hasNumpad}\\n\")\n",
    "\n",
    "print(Item.__dict__) #All class level attributes\n",
    "print(Item.payRate)\n",
    "print(item_1.__dict__)#All instance level attributes\n",
    "print(item_1.payRate, \"\\n\")  # accessing a class attribute using instance even though it's not at same level\n",
    "item_2.payRate = 0.5\n",
    "print(item_1.applyDiscount()) #for a default 10% discount\n",
    "print(item_2.applyDiscount(), \"\\n\") #for a 50% discount\n",
    "\n",
    "for x in Item.all:\n",
    "    print(x.name) #printing name of each instance"
   ]
  }
 ],
 "metadata": {
  "kernelspec": {
   "display_name": "Python 3 (ipykernel)",
   "language": "python",
   "name": "python3"
  },
  "language_info": {
   "codemirror_mode": {
    "name": "ipython",
    "version": 3
   },
   "file_extension": ".py",
   "mimetype": "text/x-python",
   "name": "python",
   "nbconvert_exporter": "python",
   "pygments_lexer": "ipython3",
   "version": "3.9.15"
  }
 },
 "nbformat": 4,
 "nbformat_minor": 5
}
